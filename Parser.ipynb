{
 "cells": [
  {
   "cell_type": "code",
   "execution_count": 1,
   "metadata": {
    "collapsed": true
   },
   "outputs": [],
   "source": [
    "import pandas as pd\n",
    "import string\n",
    "from nltk.corpus import stopwords, wordnet"
   ]
  },
  {
   "cell_type": "code",
   "execution_count": 2,
   "metadata": {
    "collapsed": true
   },
   "outputs": [],
   "source": [
    "df = pd.read_csv('parsed_enron.csv')"
   ]
  },
  {
   "cell_type": "code",
   "execution_count": 3,
   "metadata": {
    "scrolled": true
   },
   "outputs": [
    {
     "data": {
      "text/html": [
       "<div>\n",
       "<style scoped>\n",
       "    .dataframe tbody tr th:only-of-type {\n",
       "        vertical-align: middle;\n",
       "    }\n",
       "\n",
       "    .dataframe tbody tr th {\n",
       "        vertical-align: top;\n",
       "    }\n",
       "\n",
       "    .dataframe thead th {\n",
       "        text-align: right;\n",
       "    }\n",
       "</style>\n",
       "<table border=\"1\" class=\"dataframe\">\n",
       "  <thead>\n",
       "    <tr style=\"text-align: right;\">\n",
       "      <th></th>\n",
       "      <th>Content-Transfer-Encoding</th>\n",
       "      <th>Content-Type</th>\n",
       "      <th>Date</th>\n",
       "      <th>From</th>\n",
       "      <th>Message-ID</th>\n",
       "      <th>Mime-Version</th>\n",
       "      <th>Subject</th>\n",
       "      <th>To</th>\n",
       "      <th>X-FileName</th>\n",
       "      <th>X-Folder</th>\n",
       "      <th>X-From</th>\n",
       "      <th>X-Origin</th>\n",
       "      <th>X-To</th>\n",
       "      <th>X-bcc</th>\n",
       "      <th>X-cc</th>\n",
       "      <th>body</th>\n",
       "    </tr>\n",
       "  </thead>\n",
       "  <tbody>\n",
       "    <tr>\n",
       "      <th>0</th>\n",
       "      <td>7bit</td>\n",
       "      <td>text/plain; charset=us-ascii</td>\n",
       "      <td>Mon, 14 May 2001 16:39:00 -0700 (PDT)</td>\n",
       "      <td>phillip.allen@enron.com</td>\n",
       "      <td>&lt;18782981.1075855378110.JavaMail.evans@thyme&gt;</td>\n",
       "      <td>1.0</td>\n",
       "      <td>NaN</td>\n",
       "      <td>tim.belden@enron.com</td>\n",
       "      <td>pallen (Non-Privileged).pst</td>\n",
       "      <td>\\Phillip_Allen_Jan2002_1\\Allen, Phillip K.\\'Se...</td>\n",
       "      <td>Phillip K Allen</td>\n",
       "      <td>Allen-P</td>\n",
       "      <td>Tim Belden &lt;Tim Belden/Enron@EnronXGate&gt;</td>\n",
       "      <td>NaN</td>\n",
       "      <td>NaN</td>\n",
       "      <td>Here is our forecast</td>\n",
       "    </tr>\n",
       "    <tr>\n",
       "      <th>1</th>\n",
       "      <td>7bit</td>\n",
       "      <td>text/plain; charset=us-ascii</td>\n",
       "      <td>Fri, 4 May 2001 13:51:00 -0700 (PDT)</td>\n",
       "      <td>phillip.allen@enron.com</td>\n",
       "      <td>&lt;15464986.1075855378456.JavaMail.evans@thyme&gt;</td>\n",
       "      <td>1.0</td>\n",
       "      <td>Re:</td>\n",
       "      <td>john.lavorato@enron.com</td>\n",
       "      <td>pallen (Non-Privileged).pst</td>\n",
       "      <td>\\Phillip_Allen_Jan2002_1\\Allen, Phillip K.\\'Se...</td>\n",
       "      <td>Phillip K Allen</td>\n",
       "      <td>Allen-P</td>\n",
       "      <td>John J Lavorato &lt;John J Lavorato/ENRON@enronXg...</td>\n",
       "      <td>NaN</td>\n",
       "      <td>NaN</td>\n",
       "      <td>Traveling to have a business meeting takes the...</td>\n",
       "    </tr>\n",
       "    <tr>\n",
       "      <th>2</th>\n",
       "      <td>7bit</td>\n",
       "      <td>text/plain; charset=us-ascii</td>\n",
       "      <td>Wed, 18 Oct 2000 03:00:00 -0700 (PDT)</td>\n",
       "      <td>phillip.allen@enron.com</td>\n",
       "      <td>&lt;24216240.1075855687451.JavaMail.evans@thyme&gt;</td>\n",
       "      <td>1.0</td>\n",
       "      <td>Re: test</td>\n",
       "      <td>leah.arsdall@enron.com</td>\n",
       "      <td>pallen.nsf</td>\n",
       "      <td>\\Phillip_Allen_Dec2000\\Notes Folders\\'sent mail</td>\n",
       "      <td>Phillip K Allen</td>\n",
       "      <td>Allen-P</td>\n",
       "      <td>Leah Van Arsdall</td>\n",
       "      <td>NaN</td>\n",
       "      <td>NaN</td>\n",
       "      <td>test successful.  way to go!!!</td>\n",
       "    </tr>\n",
       "    <tr>\n",
       "      <th>3</th>\n",
       "      <td>7bit</td>\n",
       "      <td>text/plain; charset=us-ascii</td>\n",
       "      <td>Mon, 23 Oct 2000 06:13:00 -0700 (PDT)</td>\n",
       "      <td>phillip.allen@enron.com</td>\n",
       "      <td>&lt;13505866.1075863688222.JavaMail.evans@thyme&gt;</td>\n",
       "      <td>1.0</td>\n",
       "      <td>NaN</td>\n",
       "      <td>randall.gay@enron.com</td>\n",
       "      <td>pallen.nsf</td>\n",
       "      <td>\\Phillip_Allen_Dec2000\\Notes Folders\\'sent mail</td>\n",
       "      <td>Phillip K Allen</td>\n",
       "      <td>Allen-P</td>\n",
       "      <td>Randall L Gay</td>\n",
       "      <td>NaN</td>\n",
       "      <td>NaN</td>\n",
       "      <td>Randy,   Can you send me a schedule of the sal...</td>\n",
       "    </tr>\n",
       "    <tr>\n",
       "      <th>4</th>\n",
       "      <td>7bit</td>\n",
       "      <td>text/plain; charset=us-ascii</td>\n",
       "      <td>Thu, 31 Aug 2000 05:07:00 -0700 (PDT)</td>\n",
       "      <td>phillip.allen@enron.com</td>\n",
       "      <td>&lt;30922949.1075863688243.JavaMail.evans@thyme&gt;</td>\n",
       "      <td>1.0</td>\n",
       "      <td>Re: Hello</td>\n",
       "      <td>greg.piper@enron.com</td>\n",
       "      <td>pallen.nsf</td>\n",
       "      <td>\\Phillip_Allen_Dec2000\\Notes Folders\\'sent mail</td>\n",
       "      <td>Phillip K Allen</td>\n",
       "      <td>Allen-P</td>\n",
       "      <td>Greg Piper</td>\n",
       "      <td>NaN</td>\n",
       "      <td>NaN</td>\n",
       "      <td>Let's shoot for Tuesday at 11:45.</td>\n",
       "    </tr>\n",
       "  </tbody>\n",
       "</table>\n",
       "</div>"
      ],
      "text/plain": [
       "  Content-Transfer-Encoding                  Content-Type  \\\n",
       "0                      7bit  text/plain; charset=us-ascii   \n",
       "1                      7bit  text/plain; charset=us-ascii   \n",
       "2                      7bit  text/plain; charset=us-ascii   \n",
       "3                      7bit  text/plain; charset=us-ascii   \n",
       "4                      7bit  text/plain; charset=us-ascii   \n",
       "\n",
       "                                    Date                     From  \\\n",
       "0  Mon, 14 May 2001 16:39:00 -0700 (PDT)  phillip.allen@enron.com   \n",
       "1   Fri, 4 May 2001 13:51:00 -0700 (PDT)  phillip.allen@enron.com   \n",
       "2  Wed, 18 Oct 2000 03:00:00 -0700 (PDT)  phillip.allen@enron.com   \n",
       "3  Mon, 23 Oct 2000 06:13:00 -0700 (PDT)  phillip.allen@enron.com   \n",
       "4  Thu, 31 Aug 2000 05:07:00 -0700 (PDT)  phillip.allen@enron.com   \n",
       "\n",
       "                                      Message-ID  Mime-Version    Subject  \\\n",
       "0  <18782981.1075855378110.JavaMail.evans@thyme>           1.0        NaN   \n",
       "1  <15464986.1075855378456.JavaMail.evans@thyme>           1.0        Re:   \n",
       "2  <24216240.1075855687451.JavaMail.evans@thyme>           1.0   Re: test   \n",
       "3  <13505866.1075863688222.JavaMail.evans@thyme>           1.0        NaN   \n",
       "4  <30922949.1075863688243.JavaMail.evans@thyme>           1.0  Re: Hello   \n",
       "\n",
       "                        To                   X-FileName  \\\n",
       "0     tim.belden@enron.com  pallen (Non-Privileged).pst   \n",
       "1  john.lavorato@enron.com  pallen (Non-Privileged).pst   \n",
       "2   leah.arsdall@enron.com                   pallen.nsf   \n",
       "3    randall.gay@enron.com                   pallen.nsf   \n",
       "4     greg.piper@enron.com                   pallen.nsf   \n",
       "\n",
       "                                            X-Folder           X-From  \\\n",
       "0  \\Phillip_Allen_Jan2002_1\\Allen, Phillip K.\\'Se...  Phillip K Allen   \n",
       "1  \\Phillip_Allen_Jan2002_1\\Allen, Phillip K.\\'Se...  Phillip K Allen   \n",
       "2    \\Phillip_Allen_Dec2000\\Notes Folders\\'sent mail  Phillip K Allen   \n",
       "3    \\Phillip_Allen_Dec2000\\Notes Folders\\'sent mail  Phillip K Allen   \n",
       "4    \\Phillip_Allen_Dec2000\\Notes Folders\\'sent mail  Phillip K Allen   \n",
       "\n",
       "  X-Origin                                               X-To X-bcc X-cc  \\\n",
       "0  Allen-P           Tim Belden <Tim Belden/Enron@EnronXGate>   NaN  NaN   \n",
       "1  Allen-P  John J Lavorato <John J Lavorato/ENRON@enronXg...   NaN  NaN   \n",
       "2  Allen-P                                   Leah Van Arsdall   NaN  NaN   \n",
       "3  Allen-P                                      Randall L Gay   NaN  NaN   \n",
       "4  Allen-P                                         Greg Piper   NaN  NaN   \n",
       "\n",
       "                                                body  \n",
       "0                               Here is our forecast  \n",
       "1  Traveling to have a business meeting takes the...  \n",
       "2                     test successful.  way to go!!!  \n",
       "3  Randy,   Can you send me a schedule of the sal...  \n",
       "4                  Let's shoot for Tuesday at 11:45.  "
      ]
     },
     "execution_count": 3,
     "metadata": {},
     "output_type": "execute_result"
    }
   ],
   "source": [
    "df.head()"
   ]
  },
  {
   "cell_type": "code",
   "execution_count": 4,
   "metadata": {
    "collapsed": true,
    "scrolled": false
   },
   "outputs": [],
   "source": [
    "def preprocess(x):\n",
    "    x = str(x)\n",
    "    c = [char for char in x if char not in string.punctuation]\n",
    "    c = ''.join(c)\n",
    "    c = [char for char in x if not char.isdigit()]\n",
    "    c = ''.join(c)\n",
    "    no_punc = [word for word in c.lower().split() if word not in stopwords.words('english')]\n",
    "    word_dict = [word for word in no_punc if wordnet.synsets(word)]\n",
    "    return word_dict"
   ]
  },
  {
   "cell_type": "code",
   "execution_count": 5,
   "metadata": {},
   "outputs": [
    {
     "name": "stdout",
     "output_type": "stream",
     "text": [
      "['wanted', 'give', 'changed', 'unit', 'mix', 'include', 'bedrooms', 'reduced', 'number', 'buildings', 'working', 'construction', 'time', 'pursuing', 'fha', 'construction', 'drawings', 'complete', 'send', 'revised', 'original', 'bid', 'competitive', 'still', 'attracted', 'firm', 'strong', 'local', 'presence']\n"
     ]
    }
   ],
   "source": [
    "print(preprocess(df.iloc[28]['body']))"
   ]
  },
  {
   "cell_type": "code",
   "execution_count": 6,
   "metadata": {},
   "outputs": [
    {
     "data": {
      "text/plain": [
       "[Synset('federal_housing_administration.n.01')]"
      ]
     },
     "execution_count": 6,
     "metadata": {},
     "output_type": "execute_result"
    }
   ],
   "source": [
    "wordnet.synsets('fha')"
   ]
  },
  {
   "cell_type": "code",
   "execution_count": 7,
   "metadata": {},
   "outputs": [
    {
     "data": {
      "text/plain": [
       "'Reagan,  Just wanted to give you an update.  I have changed the unit mix to include some 1 bedrooms and reduced the number of buildings to 12.  Kipp Flores is working on the construction drawings.  At the same time I am pursuing FHA financing.  Once the construction drawings are complete I will send them to you for a revised bid.  Your original bid was competitive and I am still attracted to your firm because of your strong local presence and contacts.  Phillip'"
      ]
     },
     "execution_count": 7,
     "metadata": {},
     "output_type": "execute_result"
    }
   ],
   "source": [
    "df.iloc[28]['body']"
   ]
  },
  {
   "cell_type": "code",
   "execution_count": 2,
   "metadata": {
    "collapsed": true
   },
   "outputs": [],
   "source": [
    "from sklearn.feature_extraction.text import CountVectorizer, TfidfTransformer"
   ]
  },
  {
   "cell_type": "code",
   "execution_count": 9,
   "metadata": {
    "collapsed": true
   },
   "outputs": [],
   "source": [
    "cvt = CountVectorizer(analyzer=preprocess)"
   ]
  },
  {
   "cell_type": "code",
   "execution_count": 10,
   "metadata": {},
   "outputs": [
    {
     "data": {
      "text/plain": [
       "CountVectorizer(analyzer=<function preprocess at 0x7f43a599c9d8>,\n",
       "        binary=False, decode_error='strict', dtype=<class 'numpy.int64'>,\n",
       "        encoding='utf-8', input='content', lowercase=True, max_df=1.0,\n",
       "        max_features=None, min_df=1, ngram_range=(1, 1), preprocessor=None,\n",
       "        stop_words=None, strip_accents=None,\n",
       "        token_pattern='(?u)\\\\b\\\\w\\\\w+\\\\b', tokenizer=None, vocabulary=None)"
      ]
     },
     "execution_count": 10,
     "metadata": {},
     "output_type": "execute_result"
    }
   ],
   "source": [
    "# cvt.fit(df['body'])"
   ]
  },
  {
   "cell_type": "code",
   "execution_count": 26,
   "metadata": {
    "collapsed": true
   },
   "outputs": [],
   "source": [
    "bow = cvt.transform([df[df['From'] == 'kay.mann@enron.com']['body']])"
   ]
  },
  {
   "cell_type": "code",
   "execution_count": 27,
   "metadata": {
    "collapsed": true
   },
   "outputs": [],
   "source": [
    "tfidf = TfidfTransformer().fit(bow)"
   ]
  },
  {
   "cell_type": "code",
   "execution_count": 30,
   "metadata": {
    "collapsed": true
   },
   "outputs": [],
   "source": [
    "tfdif_transform = tfidf.transform(bow)"
   ]
  },
  {
   "cell_type": "code",
   "execution_count": 39,
   "metadata": {
    "scrolled": true
   },
   "outputs": [
    {
     "name": "stdout",
     "output_type": "stream",
     "text": [
      "  (0, 2006)\t0.06917144638660747\n",
      "  (0, 2640)\t0.06917144638660747\n",
      "  (0, 2713)\t0.06917144638660747\n",
      "  (0, 2885)\t0.06917144638660747\n",
      "  (0, 3629)\t0.06917144638660747\n",
      "  (0, 3812)\t0.13834289277321493\n",
      "  (0, 5775)\t0.13834289277321493\n",
      "  (0, 5882)\t0.13834289277321493\n",
      "  (0, 6560)\t0.13834289277321493\n",
      "  (0, 7456)\t0.06917144638660747\n",
      "  (0, 7949)\t0.06917144638660747\n",
      "  (0, 9543)\t0.13834289277321493\n",
      "  (0, 9567)\t0.13834289277321493\n",
      "  (0, 10013)\t0.06917144638660747\n",
      "  (0, 10248)\t0.06917144638660747\n",
      "  (0, 10357)\t0.06917144638660747\n",
      "  (0, 10585)\t0.06917144638660747\n",
      "  (0, 11520)\t0.13834289277321493\n",
      "  (0, 11806)\t0.06917144638660747\n",
      "  (0, 11877)\t0.06917144638660747\n",
      "  (0, 14005)\t0.06917144638660747\n",
      "  (0, 14605)\t0.06917144638660747\n",
      "  (0, 14786)\t0.06917144638660747\n",
      "  (0, 15119)\t0.06917144638660747\n",
      "  (0, 15315)\t0.13834289277321493\n",
      "  :\t:\n",
      "  (0, 36519)\t0.06917144638660747\n",
      "  (0, 39984)\t0.06917144638660747\n",
      "  (0, 39988)\t0.06917144638660747\n",
      "  (0, 40300)\t0.13834289277321493\n",
      "  (0, 41324)\t0.13834289277321493\n",
      "  (0, 41946)\t0.06917144638660747\n",
      "  (0, 42223)\t0.13834289277321493\n",
      "  (0, 43370)\t0.06917144638660747\n",
      "  (0, 44249)\t0.13834289277321493\n",
      "  (0, 44791)\t0.06917144638660747\n",
      "  (0, 45512)\t0.06917144638660747\n",
      "  (0, 47134)\t0.2075143391598224\n",
      "  (0, 47153)\t0.06917144638660747\n",
      "  (0, 47170)\t0.06917144638660747\n",
      "  (0, 47600)\t0.06917144638660747\n",
      "  (0, 47980)\t0.06917144638660747\n",
      "  (0, 48455)\t0.13834289277321493\n",
      "  (0, 49425)\t0.06917144638660747\n",
      "  (0, 50159)\t0.2075143391598224\n",
      "  (0, 51134)\t0.13834289277321493\n",
      "  (0, 52077)\t0.06917144638660747\n",
      "  (0, 52382)\t0.06917144638660747\n",
      "  (0, 52949)\t0.06917144638660747\n",
      "  (0, 53118)\t0.06917144638660747\n",
      "  (0, 53138)\t0.06917144638660747\n"
     ]
    }
   ],
   "source": [
    "print(tfdif_transform)"
   ]
  },
  {
   "cell_type": "code",
   "execution_count": 34,
   "metadata": {
    "collapsed": true
   },
   "outputs": [],
   "source": [
    "# meta = {}\n",
    "# for i, val in enumerate(cvt.get_feature_names()):\n",
    "#     # to exclude the single letter words\n",
    "#     meta[val] = tfdif_transform.getcol(i).mean()"
   ]
  },
  {
   "cell_type": "code",
   "execution_count": 32,
   "metadata": {
    "collapsed": true
   },
   "outputs": [],
   "source": [
    "# df['To'].value_counts()"
   ]
  },
  {
   "cell_type": "code",
   "execution_count": 11,
   "metadata": {},
   "outputs": [
    {
     "name": "stdout",
     "output_type": "stream",
     "text": [
      "  (0, 3139)\t1\n",
      "  (0, 5451)\t1\n",
      "  (0, 10343)\t1\n",
      "  (0, 10600)\t1\n",
      "  (0, 15313)\t1\n",
      "  (0, 17786)\t1\n",
      "  (0, 17793)\t1\n",
      "  (0, 24060)\t1\n",
      "  (0, 26154)\t1\n",
      "  (0, 26691)\t1\n",
      "  (0, 29207)\t1\n",
      "  (0, 31747)\t1\n",
      "  (0, 31760)\t1\n",
      "  (0, 35284)\t1\n",
      "  (0, 38308)\t1\n",
      "  (0, 39419)\t1\n",
      "  (0, 42223)\t1\n",
      "  (0, 45638)\t1\n",
      "  (0, 52072)\t1\n"
     ]
    }
   ],
   "source": [
    "print(cvt.transform([df['body']]))"
   ]
  },
  {
   "cell_type": "code",
   "execution_count": 12,
   "metadata": {},
   "outputs": [
    {
     "name": "stdout",
     "output_type": "stream",
     "text": [
      "Lecture notes - 2 of 2 is now available for E220-1: Corporate Financial  Reporting through the Izio InfoPier system.  You will find it in the  'Handouts' section.  =========================================== This message was sent from the Izio InfoPier system.  To stop receiving these  notifications, please uncheck the box labeled \"I want to be notified by email  when course information is updated\" in the \"Properties\" section.\n"
     ]
    }
   ],
   "source": [
    "print(df.loc[58699]['body'])"
   ]
  },
  {
   "cell_type": "code",
   "execution_count": 22,
   "metadata": {},
   "outputs": [
    {
     "data": {
      "text/plain": [
       "53684"
      ]
     },
     "execution_count": 22,
     "metadata": {},
     "output_type": "execute_result"
    }
   ],
   "source": [
    "len(cvt.get_feature_names())"
   ]
  },
  {
   "cell_type": "code",
   "execution_count": 4,
   "metadata": {
    "collapsed": true
   },
   "outputs": [],
   "source": [
    "import pickle"
   ]
  },
  {
   "cell_type": "code",
   "execution_count": 44,
   "metadata": {
    "collapsed": true
   },
   "outputs": [],
   "source": [
    "list_pickle_path = 'list_pickle.pkl'\n",
    " \n",
    "list_pickle = open(list_pickle_path, 'wb')\n",
    "pickle.dump(cvt, list_pickle)\n",
    "list_pickle.close()"
   ]
  },
  {
   "cell_type": "code",
   "execution_count": 1,
   "metadata": {},
   "outputs": [],
   "source": [
    "# Need to open the pickled list object into read mode\n",
    " \n",
    "list_pickle_path = 'list_pickle.pkl'\n",
    "list_unpickle = open(list_pickle_path, 'rb')\n",
    " \n",
    "# load the unpickle object into a variable\n",
    "numbers_list = pickle.load(list_unpickle)\n",
    " \n",
    "print(numbers_list)"
   ]
  },
  {
   "cell_type": "code",
   "execution_count": null,
   "metadata": {
    "collapsed": true
   },
   "outputs": [],
   "source": []
  }
 ],
 "metadata": {
  "kernelspec": {
   "display_name": "Python 3",
   "language": "python",
   "name": "python3"
  },
  "language_info": {
   "codemirror_mode": {
    "name": "ipython",
    "version": 3
   },
   "file_extension": ".py",
   "mimetype": "text/x-python",
   "name": "python",
   "nbconvert_exporter": "python",
   "pygments_lexer": "ipython3",
   "version": "3.6.3"
  }
 },
 "nbformat": 4,
 "nbformat_minor": 2
}
